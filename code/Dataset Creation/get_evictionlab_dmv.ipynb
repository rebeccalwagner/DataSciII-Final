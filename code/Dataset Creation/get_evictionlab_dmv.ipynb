{
 "cells": [
  {
   "cell_type": "code",
   "execution_count": 5,
   "metadata": {},
   "outputs": [],
   "source": [
    "import pandas as pd \n",
    "import csv\n",
    "import os \n",
    "import seaborn as sns\n",
    "from sklearn.decomposition import PCA\n",
    "from sklearn.preprocessing import StandardScaler\n",
    "from sklearn.decomposition import FactorAnalysis\n",
    "import numpy as np\n",
    "import matplotlib.pyplot as plt"
   ]
  },
  {
   "cell_type": "markdown",
   "metadata": {},
   "source": [
    "### Open Data"
   ]
  },
  {
   "cell_type": "markdown",
   "metadata": {},
   "source": [
    "Open the original EvictionLab block group csv, and keep only data from Virginia, Maryland, and DC"
   ]
  },
  {
   "cell_type": "code",
   "execution_count": 6,
   "metadata": {},
   "outputs": [],
   "source": [
    "EvictionLab_File = \"./data/bg_proprietary_2000_2018_v1.1.csv\"\n",
    "DMV_File = \"./data/EvictionLab_bg_DMV.csv\"\n",
    "\n",
    "fips_to_keep = [\"11\",\"51\",\"24\"]\n",
    "\n",
    "with open(EvictionLab_File, mode='r') as infile, open(DMV_File, mode='w', newline='') as outfile:\n",
    "    reader = csv.reader(infile)\n",
    "    writer = csv.writer(outfile)\n",
    "    \n",
    "    # Write the header to the output file\n",
    "    header = next(reader)\n",
    "    writer.writerow(header)\n",
    "    \n",
    "    # Process each row\n",
    "    for row in reader:\n",
    "\n",
    "        block_group_id = row[0].zfill(12)\n",
    "        \n",
    "        # Check if the block group ID starts with a valid FIPS code\n",
    "        if block_group_id[:2] in fips_to_keep:\n",
    "            writer.writerow(row)"
   ]
  },
  {
   "cell_type": "code",
   "execution_count": 7,
   "metadata": {},
   "outputs": [
    {
     "name": "stdout",
     "output_type": "stream",
     "text": [
      "(184205, 11)\n"
     ]
    },
    {
     "data": {
      "text/html": [
       "<div>\n",
       "<style scoped>\n",
       "    .dataframe tbody tr th:only-of-type {\n",
       "        vertical-align: middle;\n",
       "    }\n",
       "\n",
       "    .dataframe tbody tr th {\n",
       "        vertical-align: top;\n",
       "    }\n",
       "\n",
       "    .dataframe thead th {\n",
       "        text-align: right;\n",
       "    }\n",
       "</style>\n",
       "<table border=\"1\" class=\"dataframe\">\n",
       "  <thead>\n",
       "    <tr style=\"text-align: right;\">\n",
       "      <th></th>\n",
       "      <th>id</th>\n",
       "      <th>name</th>\n",
       "      <th>parent_location</th>\n",
       "      <th>year</th>\n",
       "      <th>type</th>\n",
       "      <th>filings</th>\n",
       "      <th>filing_rate</th>\n",
       "      <th>threatened</th>\n",
       "      <th>threatened_rate</th>\n",
       "      <th>judgements</th>\n",
       "      <th>judgement_rate</th>\n",
       "    </tr>\n",
       "  </thead>\n",
       "  <tbody>\n",
       "    <tr>\n",
       "      <th>0</th>\n",
       "      <td>110010001001</td>\n",
       "      <td>District of Columbia, District of Columbia, 10...</td>\n",
       "      <td>District of Columbia</td>\n",
       "      <td>2000</td>\n",
       "      <td>observed</td>\n",
       "      <td>NaN</td>\n",
       "      <td>NaN</td>\n",
       "      <td>NaN</td>\n",
       "      <td>NaN</td>\n",
       "      <td>NaN</td>\n",
       "      <td>NaN</td>\n",
       "    </tr>\n",
       "    <tr>\n",
       "      <th>1</th>\n",
       "      <td>110010001001</td>\n",
       "      <td>District of Columbia, District of Columbia, 10...</td>\n",
       "      <td>District of Columbia</td>\n",
       "      <td>2001</td>\n",
       "      <td>observed</td>\n",
       "      <td>NaN</td>\n",
       "      <td>NaN</td>\n",
       "      <td>NaN</td>\n",
       "      <td>NaN</td>\n",
       "      <td>NaN</td>\n",
       "      <td>NaN</td>\n",
       "    </tr>\n",
       "    <tr>\n",
       "      <th>2</th>\n",
       "      <td>110010001001</td>\n",
       "      <td>District of Columbia, District of Columbia, 10...</td>\n",
       "      <td>District of Columbia</td>\n",
       "      <td>2002</td>\n",
       "      <td>observed</td>\n",
       "      <td>NaN</td>\n",
       "      <td>NaN</td>\n",
       "      <td>NaN</td>\n",
       "      <td>NaN</td>\n",
       "      <td>NaN</td>\n",
       "      <td>NaN</td>\n",
       "    </tr>\n",
       "    <tr>\n",
       "      <th>3</th>\n",
       "      <td>110010001001</td>\n",
       "      <td>District of Columbia, District of Columbia, 10...</td>\n",
       "      <td>District of Columbia</td>\n",
       "      <td>2003</td>\n",
       "      <td>observed</td>\n",
       "      <td>2.0</td>\n",
       "      <td>0.49</td>\n",
       "      <td>2.0</td>\n",
       "      <td>0.49</td>\n",
       "      <td>1.0</td>\n",
       "      <td>0.25</td>\n",
       "    </tr>\n",
       "    <tr>\n",
       "      <th>4</th>\n",
       "      <td>110010001001</td>\n",
       "      <td>District of Columbia, District of Columbia, 10...</td>\n",
       "      <td>District of Columbia</td>\n",
       "      <td>2004</td>\n",
       "      <td>observed</td>\n",
       "      <td>NaN</td>\n",
       "      <td>NaN</td>\n",
       "      <td>NaN</td>\n",
       "      <td>NaN</td>\n",
       "      <td>NaN</td>\n",
       "      <td>NaN</td>\n",
       "    </tr>\n",
       "    <tr>\n",
       "      <th>...</th>\n",
       "      <td>...</td>\n",
       "      <td>...</td>\n",
       "      <td>...</td>\n",
       "      <td>...</td>\n",
       "      <td>...</td>\n",
       "      <td>...</td>\n",
       "      <td>...</td>\n",
       "      <td>...</td>\n",
       "      <td>...</td>\n",
       "      <td>...</td>\n",
       "      <td>...</td>\n",
       "    </tr>\n",
       "    <tr>\n",
       "      <th>184200</th>\n",
       "      <td>518400003024</td>\n",
       "      <td>Winchester city, Virginia, 302, 4</td>\n",
       "      <td>Winchester city</td>\n",
       "      <td>2014</td>\n",
       "      <td>observed</td>\n",
       "      <td>5.0</td>\n",
       "      <td>1.50</td>\n",
       "      <td>5.0</td>\n",
       "      <td>1.50</td>\n",
       "      <td>3.0</td>\n",
       "      <td>0.90</td>\n",
       "    </tr>\n",
       "    <tr>\n",
       "      <th>184201</th>\n",
       "      <td>518400003024</td>\n",
       "      <td>Winchester city, Virginia, 302, 4</td>\n",
       "      <td>Winchester city</td>\n",
       "      <td>2015</td>\n",
       "      <td>observed</td>\n",
       "      <td>4.0</td>\n",
       "      <td>1.20</td>\n",
       "      <td>4.0</td>\n",
       "      <td>1.20</td>\n",
       "      <td>3.0</td>\n",
       "      <td>0.90</td>\n",
       "    </tr>\n",
       "    <tr>\n",
       "      <th>184202</th>\n",
       "      <td>518400003024</td>\n",
       "      <td>Winchester city, Virginia, 302, 4</td>\n",
       "      <td>Winchester city</td>\n",
       "      <td>2016</td>\n",
       "      <td>observed</td>\n",
       "      <td>3.0</td>\n",
       "      <td>1.52</td>\n",
       "      <td>3.0</td>\n",
       "      <td>1.52</td>\n",
       "      <td>2.0</td>\n",
       "      <td>1.01</td>\n",
       "    </tr>\n",
       "    <tr>\n",
       "      <th>184203</th>\n",
       "      <td>518400003024</td>\n",
       "      <td>Winchester city, Virginia, 302, 4</td>\n",
       "      <td>Winchester city</td>\n",
       "      <td>2017</td>\n",
       "      <td>observed</td>\n",
       "      <td>7.0</td>\n",
       "      <td>3.54</td>\n",
       "      <td>7.0</td>\n",
       "      <td>3.54</td>\n",
       "      <td>4.0</td>\n",
       "      <td>2.02</td>\n",
       "    </tr>\n",
       "    <tr>\n",
       "      <th>184204</th>\n",
       "      <td>518400003024</td>\n",
       "      <td>Winchester city, Virginia, 302, 4</td>\n",
       "      <td>Winchester city</td>\n",
       "      <td>2018</td>\n",
       "      <td>observed</td>\n",
       "      <td>1.0</td>\n",
       "      <td>0.51</td>\n",
       "      <td>1.0</td>\n",
       "      <td>0.51</td>\n",
       "      <td>1.0</td>\n",
       "      <td>0.51</td>\n",
       "    </tr>\n",
       "  </tbody>\n",
       "</table>\n",
       "<p>184205 rows × 11 columns</p>\n",
       "</div>"
      ],
      "text/plain": [
       "                  id                                               name  \\\n",
       "0       110010001001  District of Columbia, District of Columbia, 10...   \n",
       "1       110010001001  District of Columbia, District of Columbia, 10...   \n",
       "2       110010001001  District of Columbia, District of Columbia, 10...   \n",
       "3       110010001001  District of Columbia, District of Columbia, 10...   \n",
       "4       110010001001  District of Columbia, District of Columbia, 10...   \n",
       "...              ...                                                ...   \n",
       "184200  518400003024                  Winchester city, Virginia, 302, 4   \n",
       "184201  518400003024                  Winchester city, Virginia, 302, 4   \n",
       "184202  518400003024                  Winchester city, Virginia, 302, 4   \n",
       "184203  518400003024                  Winchester city, Virginia, 302, 4   \n",
       "184204  518400003024                  Winchester city, Virginia, 302, 4   \n",
       "\n",
       "             parent_location  year      type  filings  filing_rate  \\\n",
       "0       District of Columbia  2000  observed      NaN          NaN   \n",
       "1       District of Columbia  2001  observed      NaN          NaN   \n",
       "2       District of Columbia  2002  observed      NaN          NaN   \n",
       "3       District of Columbia  2003  observed      2.0         0.49   \n",
       "4       District of Columbia  2004  observed      NaN          NaN   \n",
       "...                      ...   ...       ...      ...          ...   \n",
       "184200       Winchester city  2014  observed      5.0         1.50   \n",
       "184201       Winchester city  2015  observed      4.0         1.20   \n",
       "184202       Winchester city  2016  observed      3.0         1.52   \n",
       "184203       Winchester city  2017  observed      7.0         3.54   \n",
       "184204       Winchester city  2018  observed      1.0         0.51   \n",
       "\n",
       "        threatened  threatened_rate  judgements  judgement_rate  \n",
       "0              NaN              NaN         NaN             NaN  \n",
       "1              NaN              NaN         NaN             NaN  \n",
       "2              NaN              NaN         NaN             NaN  \n",
       "3              2.0             0.49         1.0            0.25  \n",
       "4              NaN              NaN         NaN             NaN  \n",
       "...            ...              ...         ...             ...  \n",
       "184200         5.0             1.50         3.0            0.90  \n",
       "184201         4.0             1.20         3.0            0.90  \n",
       "184202         3.0             1.52         2.0            1.01  \n",
       "184203         7.0             3.54         4.0            2.02  \n",
       "184204         1.0             0.51         1.0            0.51  \n",
       "\n",
       "[184205 rows x 11 columns]"
      ]
     },
     "execution_count": 7,
     "metadata": {},
     "output_type": "execute_result"
    }
   ],
   "source": [
    "EvictionLab_DMV = pd.read_csv(\"./data/EvictionLab_bg_DMV.csv\")\n",
    "\n",
    "print(EvictionLab_DMV.shape)\n",
    "\n",
    "EvictionLab_DMV"
   ]
  },
  {
   "cell_type": "code",
   "execution_count": 9,
   "metadata": {},
   "outputs": [],
   "source": [
    "EvictionLab_DMV_2018 = EvictionLab_DMV[EvictionLab_DMV[\"year\"] == 2018] # get only 2018 data for target"
   ]
  },
  {
   "cell_type": "markdown",
   "metadata": {},
   "source": [
    "### Individual Targets"
   ]
  },
  {
   "cell_type": "code",
   "execution_count": 20,
   "metadata": {},
   "outputs": [],
   "source": [
    "EvictionLab_DMV_2018_Filing = EvictionLab_DMV_2018[~EvictionLab_DMV_2018[\"filing_rate\"].isna() & ~EvictionLab_DMV_2018[\"filings\"].isna()].drop([\"threatened\",\"threatened_rate\",\"judgements\",\"judgement_rate\"],axis=1)"
   ]
  },
  {
   "cell_type": "code",
   "execution_count": 23,
   "metadata": {},
   "outputs": [],
   "source": [
    "# drop inf values\n",
    "EvictionLab_DMV_2018_Filing = EvictionLab_DMV_2018_Filing[~np.isinf(EvictionLab_DMV_2018_Filing[\"filing_rate\"])]\n",
    "EvictionLab_DMV_2018_Filing = EvictionLab_DMV_2018_Filing[~np.isinf(EvictionLab_DMV_2018_Filing[\"filings\"])]"
   ]
  },
  {
   "cell_type": "code",
   "execution_count": 24,
   "metadata": {},
   "outputs": [
    {
     "data": {
      "text/plain": [
       "count    6220.000000\n",
       "mean       54.225563\n",
       "std       164.971212\n",
       "min         1.000000\n",
       "25%         3.000000\n",
       "50%         8.000000\n",
       "75%        37.000000\n",
       "max      3094.000000\n",
       "Name: filings, dtype: float64"
      ]
     },
     "execution_count": 24,
     "metadata": {},
     "output_type": "execute_result"
    }
   ],
   "source": [
    "EvictionLab_DMV_2018_Filing[\"filings\"].describe()"
   ]
  },
  {
   "cell_type": "code",
   "execution_count": null,
   "metadata": {},
   "outputs": [
    {
     "data": {
      "text/plain": [
       "count    6220.000000\n",
       "mean       19.435238\n",
       "std        52.465337\n",
       "min         0.070000\n",
       "25%         2.970000\n",
       "50%         6.955000\n",
       "75%        17.330000\n",
       "max      2040.000000\n",
       "Name: filing_rate, dtype: float64"
      ]
     },
     "execution_count": 25,
     "metadata": {},
     "output_type": "execute_result"
    }
   ],
   "source": [
    "EvictionLab_DMV_2018_Filing[\"filing_rate\"].describe()"
   ]
  },
  {
   "cell_type": "code",
   "execution_count": null,
   "metadata": {},
   "outputs": [],
   "source": [
    "# save\n",
    "EvictionLab_DMV_2018_Filing.to_csv(\"data/EvictionLab_bg_DMV_Filing.csv\", index=False)"
   ]
  },
  {
   "cell_type": "markdown",
   "metadata": {},
   "source": [
    "### Unify Target\n",
    "\n",
    "Because there are several measures of eviction here, I need a way to turn them into one target. "
   ]
  },
  {
   "cell_type": "markdown",
   "metadata": {},
   "source": [
    "#### First, drop NA"
   ]
  },
  {
   "cell_type": "code",
   "execution_count": 104,
   "metadata": {},
   "outputs": [],
   "source": [
    "EvictionLab_DMV_2018 = EvictionLab_DMV_2018.replace([np.inf, -np.inf], np.nan)"
   ]
  },
  {
   "cell_type": "code",
   "execution_count": 105,
   "metadata": {},
   "outputs": [
    {
     "name": "stdout",
     "output_type": "stream",
     "text": [
      "id                    0\n",
      "name                  0\n",
      "parent_location       0\n",
      "year                  0\n",
      "type                  0\n",
      "filings            3360\n",
      "filing_rate        3475\n",
      "threatened         3360\n",
      "threatened_rate    3475\n",
      "judgements         3360\n",
      "judgement_rate     3475\n",
      "dtype: int64\n"
     ]
    }
   ],
   "source": [
    "print(EvictionLab_DMV_2018.isna().sum())"
   ]
  },
  {
   "cell_type": "code",
   "execution_count": 106,
   "metadata": {},
   "outputs": [],
   "source": [
    "EvictionLab_DMV_2018 = EvictionLab_DMV_2018.dropna()"
   ]
  },
  {
   "cell_type": "code",
   "execution_count": 107,
   "metadata": {},
   "outputs": [
    {
     "data": {
      "text/plain": [
       "6220"
      ]
     },
     "execution_count": 107,
     "metadata": {},
     "output_type": "execute_result"
    }
   ],
   "source": [
    "len(EvictionLab_DMV_2018)"
   ]
  },
  {
   "cell_type": "code",
   "execution_count": 92,
   "metadata": {},
   "outputs": [],
   "source": [
    "targets = EvictionLab_DMV_2018[['filings', 'filing_rate', 'threatened', 'threatened_rate', 'judgements', 'judgement_rate']]"
   ]
  },
  {
   "cell_type": "code",
   "execution_count": 60,
   "metadata": {},
   "outputs": [
    {
     "data": {
      "text/plain": [
       "<Axes: >"
      ]
     },
     "execution_count": 60,
     "metadata": {},
     "output_type": "execute_result"
    },
    {
     "data": {
      "image/png": "[encoded data removed]",
      "text/plain": [
       "<Figure size 640x480 with 2 Axes>"
      ]
     },
     "metadata": {},
     "output_type": "display_data"
    }
   ],
   "source": [
    "sns.heatmap(targets.corr(),cmap=\"coolwarm\", annot=True) # check for correlation to validate choice of PCA"
   ]
  },
  {
   "cell_type": "markdown",
   "metadata": {},
   "source": [
    "#### PCA?"
   ]
  },
  {
   "cell_type": "code",
   "execution_count": 61,
   "metadata": {},
   "outputs": [],
   "source": [
    "# scale the variables for PCA\n",
    "\n",
    "scaler = StandardScaler()\n",
    "scaled_data = scaler.fit_transform(targets)"
   ]
  },
  {
   "cell_type": "code",
   "execution_count": 63,
   "metadata": {},
   "outputs": [],
   "source": [
    "pca = PCA()\n",
    "\n",
    "pca_data = pca.fit_transform(scaled_data)"
   ]
  },
  {
   "cell_type": "code",
   "execution_count": 64,
   "metadata": {},
   "outputs": [
    {
     "data": {
      "text/plain": [
       "array([0.56554681, 0.78256253, 0.93378688, 0.99227636, 0.99883005,\n",
       "       1.        ])"
      ]
     },
     "execution_count": 64,
     "metadata": {},
     "output_type": "execute_result"
    }
   ],
   "source": [
    "explained_variance = np.cumsum(pca.explained_variance_ratio_)\n",
    "explained_variance\n"
   ]
  },
  {
   "cell_type": "code",
   "execution_count": 66,
   "metadata": {},
   "outputs": [
    {
     "data": {
      "image/png": "[encoded data removed]",
      "text/plain": [
       "<Figure size 640x480 with 1 Axes>"
      ]
     },
     "metadata": {},
     "output_type": "display_data"
    }
   ],
   "source": [
    "plt.plot(range(1, len(explained_variance) + 1), explained_variance, marker='o')\n",
    "plt.xlabel('Number of Components')\n",
    "plt.ylabel('Cumulative Explained Variance')\n",
    "plt.title('Explained Variance vs. Number of Components')\n",
    "plt.show()"
   ]
  },
  {
   "cell_type": "code",
   "execution_count": 110,
   "metadata": {},
   "outputs": [],
   "source": [
    "eviction_measure = pca_data[:, :4]\n",
    "EvictionLab_DMV_2018[\"Eviction_Score\"] = np.sum(eviction_measure, axis=1) \n"
   ]
  },
  {
   "cell_type": "markdown",
   "metadata": {},
   "source": [
    "#### Factor Analysis?"
   ]
  },
  {
   "cell_type": "code",
   "execution_count": 81,
   "metadata": {},
   "outputs": [],
   "source": [
    "n_factors = 2  # You can try different numbers of factors\n",
    "fa = FactorAnalysis(n_components=n_factors, random_state=42)\n",
    "\n",
    "# Fit the model and transform the data\n",
    "fa_data = fa.fit_transform(scaled_data)"
   ]
  },
  {
   "cell_type": "code",
   "execution_count": 87,
   "metadata": {},
   "outputs": [
    {
     "data": {
      "text/plain": [
       "Index(['filings', 'filing_rate', 'threatened', 'threatened_rate', 'judgements',\n",
       "       'judgement_rate', 'Eviction_Score'],\n",
       "      dtype='object')"
      ]
     },
     "execution_count": 87,
     "metadata": {},
     "output_type": "execute_result"
    }
   ],
   "source": [
    "targets.columns"
   ]
  },
  {
   "cell_type": "code",
   "execution_count": 93,
   "metadata": {},
   "outputs": [
    {
     "name": "stdout",
     "output_type": "stream",
     "text": [
      "                 Factor 1  Factor 2\n",
      "filings          0.801753 -0.596922\n",
      "filing_rate      0.950677  0.194720\n",
      "threatened       0.810104 -0.550458\n",
      "threatened_rate  0.962177  0.271557\n",
      "judgements       0.217631 -0.173897\n",
      "judgement_rate   0.266646  0.298854\n"
     ]
    }
   ],
   "source": [
    "loadings_df = pd.DataFrame(fa.components_.T, columns=[f\"Factor {i+1}\" for i in range(n_factors)], index=targets.columns)\n",
    "print(loadings_df)"
   ]
  },
  {
   "cell_type": "markdown",
   "metadata": {},
   "source": [
    "### Save new data"
   ]
  },
  {
   "cell_type": "code",
   "execution_count": 111,
   "metadata": {},
   "outputs": [
    {
     "data": {
      "text/html": [
       "<div>\n",
       "<style scoped>\n",
       "    .dataframe tbody tr th:only-of-type {\n",
       "        vertical-align: middle;\n",
       "    }\n",
       "\n",
       "    .dataframe tbody tr th {\n",
       "        vertical-align: top;\n",
       "    }\n",
       "\n",
       "    .dataframe thead th {\n",
       "        text-align: right;\n",
       "    }\n",
       "</style>\n",
       "<table border=\"1\" class=\"dataframe\">\n",
       "  <thead>\n",
       "    <tr style=\"text-align: right;\">\n",
       "      <th></th>\n",
       "      <th>id</th>\n",
       "      <th>name</th>\n",
       "      <th>parent_location</th>\n",
       "      <th>year</th>\n",
       "      <th>type</th>\n",
       "      <th>filings</th>\n",
       "      <th>filing_rate</th>\n",
       "      <th>threatened</th>\n",
       "      <th>threatened_rate</th>\n",
       "      <th>judgements</th>\n",
       "      <th>judgement_rate</th>\n",
       "      <th>Eviction_Score</th>\n",
       "    </tr>\n",
       "  </thead>\n",
       "  <tbody>\n",
       "    <tr>\n",
       "      <th>18</th>\n",
       "      <td>110010001001</td>\n",
       "      <td>District of Columbia, District of Columbia, 10...</td>\n",
       "      <td>District of Columbia</td>\n",
       "      <td>2018</td>\n",
       "      <td>observed</td>\n",
       "      <td>14.0</td>\n",
       "      <td>4.39</td>\n",
       "      <td>8.0</td>\n",
       "      <td>2.51</td>\n",
       "      <td>0.0</td>\n",
       "      <td>0.00</td>\n",
       "      <td>-1.532614</td>\n",
       "    </tr>\n",
       "    <tr>\n",
       "      <th>37</th>\n",
       "      <td>110010001002</td>\n",
       "      <td>District of Columbia, District of Columbia, 10...</td>\n",
       "      <td>District of Columbia</td>\n",
       "      <td>2018</td>\n",
       "      <td>observed</td>\n",
       "      <td>17.0</td>\n",
       "      <td>4.67</td>\n",
       "      <td>8.0</td>\n",
       "      <td>2.20</td>\n",
       "      <td>0.0</td>\n",
       "      <td>0.00</td>\n",
       "      <td>-1.515131</td>\n",
       "    </tr>\n",
       "    <tr>\n",
       "      <th>75</th>\n",
       "      <td>110010001004</td>\n",
       "      <td>District of Columbia, District of Columbia, 10...</td>\n",
       "      <td>District of Columbia</td>\n",
       "      <td>2018</td>\n",
       "      <td>observed</td>\n",
       "      <td>1.0</td>\n",
       "      <td>0.52</td>\n",
       "      <td>1.0</td>\n",
       "      <td>0.52</td>\n",
       "      <td>0.0</td>\n",
       "      <td>0.00</td>\n",
       "      <td>-1.642614</td>\n",
       "    </tr>\n",
       "    <tr>\n",
       "      <th>132</th>\n",
       "      <td>110010002022</td>\n",
       "      <td>District of Columbia, District of Columbia, 20...</td>\n",
       "      <td>District of Columbia</td>\n",
       "      <td>2018</td>\n",
       "      <td>observed</td>\n",
       "      <td>1.0</td>\n",
       "      <td>1.43</td>\n",
       "      <td>1.0</td>\n",
       "      <td>1.43</td>\n",
       "      <td>0.0</td>\n",
       "      <td>0.00</td>\n",
       "      <td>-1.656247</td>\n",
       "    </tr>\n",
       "    <tr>\n",
       "      <th>151</th>\n",
       "      <td>110010002023</td>\n",
       "      <td>District of Columbia, District of Columbia, 20...</td>\n",
       "      <td>District of Columbia</td>\n",
       "      <td>2018</td>\n",
       "      <td>observed</td>\n",
       "      <td>4.0</td>\n",
       "      <td>2.29</td>\n",
       "      <td>4.0</td>\n",
       "      <td>2.29</td>\n",
       "      <td>0.0</td>\n",
       "      <td>0.00</td>\n",
       "      <td>-1.618109</td>\n",
       "    </tr>\n",
       "    <tr>\n",
       "      <th>...</th>\n",
       "      <td>...</td>\n",
       "      <td>...</td>\n",
       "      <td>...</td>\n",
       "      <td>...</td>\n",
       "      <td>...</td>\n",
       "      <td>...</td>\n",
       "      <td>...</td>\n",
       "      <td>...</td>\n",
       "      <td>...</td>\n",
       "      <td>...</td>\n",
       "      <td>...</td>\n",
       "      <td>...</td>\n",
       "    </tr>\n",
       "    <tr>\n",
       "      <th>184128</th>\n",
       "      <td>518400003014</td>\n",
       "      <td>Winchester city, Virginia, 301, 4</td>\n",
       "      <td>Winchester city</td>\n",
       "      <td>2018</td>\n",
       "      <td>observed</td>\n",
       "      <td>17.0</td>\n",
       "      <td>6.23</td>\n",
       "      <td>17.0</td>\n",
       "      <td>6.23</td>\n",
       "      <td>12.0</td>\n",
       "      <td>4.40</td>\n",
       "      <td>-0.184843</td>\n",
       "    </tr>\n",
       "    <tr>\n",
       "      <th>184147</th>\n",
       "      <td>518400003021</td>\n",
       "      <td>Winchester city, Virginia, 302, 1</td>\n",
       "      <td>Winchester city</td>\n",
       "      <td>2018</td>\n",
       "      <td>observed</td>\n",
       "      <td>7.0</td>\n",
       "      <td>1.00</td>\n",
       "      <td>7.0</td>\n",
       "      <td>1.00</td>\n",
       "      <td>6.0</td>\n",
       "      <td>0.86</td>\n",
       "      <td>-1.121692</td>\n",
       "    </tr>\n",
       "    <tr>\n",
       "      <th>184166</th>\n",
       "      <td>518400003022</td>\n",
       "      <td>Winchester city, Virginia, 302, 2</td>\n",
       "      <td>Winchester city</td>\n",
       "      <td>2018</td>\n",
       "      <td>observed</td>\n",
       "      <td>1.0</td>\n",
       "      <td>0.47</td>\n",
       "      <td>1.0</td>\n",
       "      <td>0.47</td>\n",
       "      <td>1.0</td>\n",
       "      <td>0.47</td>\n",
       "      <td>-1.519774</td>\n",
       "    </tr>\n",
       "    <tr>\n",
       "      <th>184185</th>\n",
       "      <td>518400003023</td>\n",
       "      <td>Winchester city, Virginia, 302, 3</td>\n",
       "      <td>Winchester city</td>\n",
       "      <td>2018</td>\n",
       "      <td>observed</td>\n",
       "      <td>4.0</td>\n",
       "      <td>1.65</td>\n",
       "      <td>4.0</td>\n",
       "      <td>1.65</td>\n",
       "      <td>2.0</td>\n",
       "      <td>0.82</td>\n",
       "      <td>-1.383103</td>\n",
       "    </tr>\n",
       "    <tr>\n",
       "      <th>184204</th>\n",
       "      <td>518400003024</td>\n",
       "      <td>Winchester city, Virginia, 302, 4</td>\n",
       "      <td>Winchester city</td>\n",
       "      <td>2018</td>\n",
       "      <td>observed</td>\n",
       "      <td>1.0</td>\n",
       "      <td>0.51</td>\n",
       "      <td>1.0</td>\n",
       "      <td>0.51</td>\n",
       "      <td>1.0</td>\n",
       "      <td>0.51</td>\n",
       "      <td>-1.514118</td>\n",
       "    </tr>\n",
       "  </tbody>\n",
       "</table>\n",
       "<p>6220 rows × 12 columns</p>\n",
       "</div>"
      ],
      "text/plain": [
       "                  id                                               name  \\\n",
       "18      110010001001  District of Columbia, District of Columbia, 10...   \n",
       "37      110010001002  District of Columbia, District of Columbia, 10...   \n",
       "75      110010001004  District of Columbia, District of Columbia, 10...   \n",
       "132     110010002022  District of Columbia, District of Columbia, 20...   \n",
       "151     110010002023  District of Columbia, District of Columbia, 20...   \n",
       "...              ...                                                ...   \n",
       "184128  518400003014                  Winchester city, Virginia, 301, 4   \n",
       "184147  518400003021                  Winchester city, Virginia, 302, 1   \n",
       "184166  518400003022                  Winchester city, Virginia, 302, 2   \n",
       "184185  518400003023                  Winchester city, Virginia, 302, 3   \n",
       "184204  518400003024                  Winchester city, Virginia, 302, 4   \n",
       "\n",
       "             parent_location  year      type  filings  filing_rate  \\\n",
       "18      District of Columbia  2018  observed     14.0         4.39   \n",
       "37      District of Columbia  2018  observed     17.0         4.67   \n",
       "75      District of Columbia  2018  observed      1.0         0.52   \n",
       "132     District of Columbia  2018  observed      1.0         1.43   \n",
       "151     District of Columbia  2018  observed      4.0         2.29   \n",
       "...                      ...   ...       ...      ...          ...   \n",
       "184128       Winchester city  2018  observed     17.0         6.23   \n",
       "184147       Winchester city  2018  observed      7.0         1.00   \n",
       "184166       Winchester city  2018  observed      1.0         0.47   \n",
       "184185       Winchester city  2018  observed      4.0         1.65   \n",
       "184204       Winchester city  2018  observed      1.0         0.51   \n",
       "\n",
       "        threatened  threatened_rate  judgements  judgement_rate  \\\n",
       "18             8.0             2.51         0.0            0.00   \n",
       "37             8.0             2.20         0.0            0.00   \n",
       "75             1.0             0.52         0.0            0.00   \n",
       "132            1.0             1.43         0.0            0.00   \n",
       "151            4.0             2.29         0.0            0.00   \n",
       "...            ...              ...         ...             ...   \n",
       "184128        17.0             6.23        12.0            4.40   \n",
       "184147         7.0             1.00         6.0            0.86   \n",
       "184166         1.0             0.47         1.0            0.47   \n",
       "184185         4.0             1.65         2.0            0.82   \n",
       "184204         1.0             0.51         1.0            0.51   \n",
       "\n",
       "        Eviction_Score  \n",
       "18           -1.532614  \n",
       "37           -1.515131  \n",
       "75           -1.642614  \n",
       "132          -1.656247  \n",
       "151          -1.618109  \n",
       "...                ...  \n",
       "184128       -0.184843  \n",
       "184147       -1.121692  \n",
       "184166       -1.519774  \n",
       "184185       -1.383103  \n",
       "184204       -1.514118  \n",
       "\n",
       "[6220 rows x 12 columns]"
      ]
     },
     "execution_count": 111,
     "metadata": {},
     "output_type": "execute_result"
    }
   ],
   "source": [
    "EvictionLab_DMV_2018"
   ]
  },
  {
   "cell_type": "code",
   "execution_count": 112,
   "metadata": {},
   "outputs": [],
   "source": [
    "EvictionLab_DMV_2018.to_csv(\"./data/EvictionLab_bg_DMV_processed_target.csv\", index=False)"
   ]
  },
  {
   "cell_type": "code",
   "execution_count": null,
   "metadata": {},
   "outputs": [],
   "source": []
  }
 ],
 "metadata": {
  "kernelspec": {
   "display_name": "Python 3",
   "language": "python",
   "name": "python3"
  },
  "language_info": {
   "codemirror_mode": {
    "name": "ipython",
    "version": 3
   },
   "file_extension": ".py",
   "mimetype": "text/x-python",
   "name": "python",
   "nbconvert_exporter": "python",
   "pygments_lexer": "ipython3",
   "version": "3.12.5"
  }
 },
 "nbformat": 4,
 "nbformat_minor": 2
}
