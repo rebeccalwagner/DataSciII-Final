{
 "cells": [
  {
   "cell_type": "code",
   "execution_count": 1,
   "metadata": {},
   "outputs": [],
   "source": [
    "import pandas as pd\n",
    "import geopandas as gpd"
   ]
  },
  {
   "cell_type": "code",
   "execution_count": 2,
   "metadata": {},
   "outputs": [],
   "source": [
    "# open all block groups\n",
    "dmv_bd_gdf = gpd.read_file(\"./data/shapes/SELECTED_DMV_BG\")\n",
    "\n",
    "# open acs data\n",
    "dc_df = pd.read_csv(\"./data/acs/acs5_2018_selected_vars_DC.csv\")\n",
    "md_df = pd.read_csv(\"./data/acs/acs5_2018_selected_vars_MD.csv\")\n",
    "va_df = pd.read_csv(\"./data/acs/acs5_2018_selected_vars_VA.csv\")\n",
    "\n",
    "# filter state block groups\n",
    "dc_bg_gdf = dmv_bd_gdf[dmv_bd_gdf[\"STATEFP10\"] == \"11\"]\n",
    "md_bg_gdf = dmv_bd_gdf[dmv_bd_gdf[\"STATEFP10\"] == \"24\"]\n",
    "va_bg_gdf = dmv_bd_gdf[dmv_bd_gdf[\"STATEFP10\"] == \"51\"]"
   ]
  },
  {
   "cell_type": "code",
   "execution_count": 7,
   "metadata": {},
   "outputs": [
    {
     "data": {
      "text/plain": [
       "True"
      ]
     },
     "execution_count": 7,
     "metadata": {},
     "output_type": "execute_result"
    }
   ],
   "source": [
    "len(dc_bg_gdf) + len(md_bg_gdf) + len(va_bg_gdf) == len(dmv_bd_gdf) # check no missing data"
   ]
  },
  {
   "cell_type": "markdown",
   "metadata": {},
   "source": [
    "### Maryland"
   ]
  },
  {
   "cell_type": "code",
   "execution_count": null,
   "metadata": {},
   "outputs": [],
   "source": [
    "md_df[\"GEOID\"] = md_df[\"GEOID\"].astype('str').str.zfill(12) # make sure geo id is string format, 12 characters long"
   ]
  },
  {
   "cell_type": "code",
   "execution_count": null,
   "metadata": {},
   "outputs": [
    {
     "data": {
      "text/plain": [
       "(3926, 1137)"
      ]
     },
     "execution_count": 19,
     "metadata": {},
     "output_type": "execute_result"
    }
   ],
   "source": [
    "len(md_df), len(md_bg_gdf) # should end up with 1137 rows of block group data"
   ]
  },
  {
   "cell_type": "code",
   "execution_count": 23,
   "metadata": {},
   "outputs": [
    {
     "data": {
      "text/plain": [
       "1137"
      ]
     },
     "execution_count": 23,
     "metadata": {},
     "output_type": "execute_result"
    }
   ],
   "source": [
    "md_selected_bg = md_df[md_df[\"GEOID\"].isin(md_bg_gdf[\"GEOID10\"])]\n",
    "\n",
    "len(md_selected_bg)"
   ]
  },
  {
   "cell_type": "code",
   "execution_count": 27,
   "metadata": {},
   "outputs": [
    {
     "data": {
      "text/plain": [
       "True"
      ]
     },
     "execution_count": 27,
     "metadata": {},
     "output_type": "execute_result"
    }
   ],
   "source": [
    "set(md_selected_bg[\"GEOID\"]) == set(md_bg_gdf[\"GEOID10\"]) # make sure they are the same"
   ]
  },
  {
   "cell_type": "markdown",
   "metadata": {},
   "source": [
    "### Virginia"
   ]
  },
  {
   "cell_type": "code",
   "execution_count": 28,
   "metadata": {},
   "outputs": [],
   "source": [
    "va_df[\"GEOID\"] = va_df[\"GEOID\"].astype('str').str.zfill(12) # make sure geo id is string format, 12 characters long"
   ]
  },
  {
   "cell_type": "code",
   "execution_count": 30,
   "metadata": {},
   "outputs": [
    {
     "data": {
      "text/plain": [
       "(5332, 961)"
      ]
     },
     "execution_count": 30,
     "metadata": {},
     "output_type": "execute_result"
    }
   ],
   "source": [
    "len(va_df), len(va_bg_gdf)"
   ]
  },
  {
   "cell_type": "code",
   "execution_count": 33,
   "metadata": {},
   "outputs": [
    {
     "data": {
      "text/plain": [
       "961"
      ]
     },
     "execution_count": 33,
     "metadata": {},
     "output_type": "execute_result"
    }
   ],
   "source": [
    "va_selected_bg = va_df[va_df[\"GEOID\"].isin(va_bg_gdf[\"GEOID10\"])]\n",
    "\n",
    "len(va_selected_bg)"
   ]
  },
  {
   "cell_type": "code",
   "execution_count": 34,
   "metadata": {},
   "outputs": [
    {
     "data": {
      "text/plain": [
       "True"
      ]
     },
     "execution_count": 34,
     "metadata": {},
     "output_type": "execute_result"
    }
   ],
   "source": [
    "set(va_selected_bg[\"GEOID\"]) == set(va_bg_gdf[\"GEOID10\"]) # make sure they are the same"
   ]
  },
  {
   "cell_type": "markdown",
   "metadata": {},
   "source": [
    "### DC"
   ]
  },
  {
   "cell_type": "code",
   "execution_count": 35,
   "metadata": {},
   "outputs": [],
   "source": [
    "dc_df[\"GEOID\"] = dc_df[\"GEOID\"].astype('str').str.zfill(12) # make sure geo id is string format, 12 characters long"
   ]
  },
  {
   "cell_type": "code",
   "execution_count": 36,
   "metadata": {},
   "outputs": [
    {
     "data": {
      "text/plain": [
       "(450, 450)"
      ]
     },
     "execution_count": 36,
     "metadata": {},
     "output_type": "execute_result"
    }
   ],
   "source": [
    "len(dc_df), len(dc_bg_gdf)"
   ]
  },
  {
   "cell_type": "code",
   "execution_count": 39,
   "metadata": {},
   "outputs": [
    {
     "data": {
      "text/plain": [
       "450"
      ]
     },
     "execution_count": 39,
     "metadata": {},
     "output_type": "execute_result"
    }
   ],
   "source": [
    "dc_selected_bg = dc_df[dc_df[\"GEOID\"].isin(dc_bg_gdf[\"GEOID10\"])]\n",
    "\n",
    "len(dc_selected_bg)"
   ]
  },
  {
   "cell_type": "code",
   "execution_count": 40,
   "metadata": {},
   "outputs": [
    {
     "data": {
      "text/plain": [
       "True"
      ]
     },
     "execution_count": 40,
     "metadata": {},
     "output_type": "execute_result"
    }
   ],
   "source": [
    "set(dc_selected_bg[\"GEOID\"]) == set(dc_bg_gdf[\"GEOID10\"]) # make sure they are the same"
   ]
  },
  {
   "cell_type": "markdown",
   "metadata": {},
   "source": [
    "### Join dataframes"
   ]
  },
  {
   "cell_type": "code",
   "execution_count": null,
   "metadata": {},
   "outputs": [
    {
     "data": {
      "text/plain": [
       "True"
      ]
     },
     "execution_count": 44,
     "metadata": {},
     "output_type": "execute_result"
    }
   ],
   "source": [
    "set(dc_selected_bg.columns) == set(md_selected_bg.columns) == set(va_selected_bg.columns) # make sure columns are the same"
   ]
  },
  {
   "cell_type": "code",
   "execution_count": 47,
   "metadata": {},
   "outputs": [
    {
     "data": {
      "text/plain": [
       "2548"
      ]
     },
     "execution_count": 47,
     "metadata": {},
     "output_type": "execute_result"
    }
   ],
   "source": [
    "len(dc_selected_bg) + len(md_selected_bg) + len(va_selected_bg)"
   ]
  },
  {
   "cell_type": "code",
   "execution_count": 53,
   "metadata": {},
   "outputs": [
    {
     "data": {
      "text/plain": [
       "2548"
      ]
     },
     "execution_count": 53,
     "metadata": {},
     "output_type": "execute_result"
    }
   ],
   "source": [
    "final_df = pd.concat([dc_selected_bg, md_selected_bg, va_selected_bg], ignore_index=True)\n",
    "\n",
    "len(final_df)"
   ]
  },
  {
   "cell_type": "code",
   "execution_count": 57,
   "metadata": {},
   "outputs": [],
   "source": [
    "cols = [\"GEOID\"] + [col for col in final_df.columns if col != 'GEOID'] # move GEOID to the front for readability\n",
    "final_df = final_df[cols]"
   ]
  },
  {
   "cell_type": "code",
   "execution_count": 56,
   "metadata": {},
   "outputs": [
    {
     "data": {
      "text/html": [
       "<div>\n",
       "<style scoped>\n",
       "    .dataframe tbody tr th:only-of-type {\n",
       "        vertical-align: middle;\n",
       "    }\n",
       "\n",
       "    .dataframe tbody tr th {\n",
       "        vertical-align: top;\n",
       "    }\n",
       "\n",
       "    .dataframe thead th {\n",
       "        text-align: right;\n",
       "    }\n",
       "</style>\n",
       "<table border=\"1\" class=\"dataframe\">\n",
       "  <thead>\n",
       "    <tr style=\"text-align: right;\">\n",
       "      <th></th>\n",
       "      <th>GEOID</th>\n",
       "      <th>B03002_003E</th>\n",
       "      <th>B01001_002E</th>\n",
       "      <th>B01001_003E</th>\n",
       "      <th>B19013_001E</th>\n",
       "      <th>B17001_002E</th>\n",
       "      <th>B25003_001E</th>\n",
       "      <th>B25070_001E</th>\n",
       "      <th>B25091_001E</th>\n",
       "      <th>B23025_003E</th>\n",
       "      <th>...</th>\n",
       "      <th>B25071_001E</th>\n",
       "      <th>B25076_001E</th>\n",
       "      <th>B25078_001E</th>\n",
       "      <th>B25079_001E</th>\n",
       "      <th>B25080_001E</th>\n",
       "      <th>B25082_001E</th>\n",
       "      <th>B25083_001E</th>\n",
       "      <th>B25086_001E</th>\n",
       "      <th>B25087_001E</th>\n",
       "      <th>B25088_001E</th>\n",
       "    </tr>\n",
       "  </thead>\n",
       "  <tbody>\n",
       "    <tr>\n",
       "      <th>0</th>\n",
       "      <td>110010068021</td>\n",
       "      <td>489</td>\n",
       "      <td>374</td>\n",
       "      <td>30</td>\n",
       "      <td>136964</td>\n",
       "      <td>NaN</td>\n",
       "      <td>379</td>\n",
       "      <td>129</td>\n",
       "      <td>250</td>\n",
       "      <td>638</td>\n",
       "      <td>...</td>\n",
       "      <td>24.2</td>\n",
       "      <td>516700</td>\n",
       "      <td>781300</td>\n",
       "      <td>155019600.0</td>\n",
       "      <td>NaN</td>\n",
       "      <td>155019600.0</td>\n",
       "      <td>-666666666</td>\n",
       "      <td>NaN</td>\n",
       "      <td>250</td>\n",
       "      <td>2682</td>\n",
       "    </tr>\n",
       "    <tr>\n",
       "      <th>1</th>\n",
       "      <td>110010022023</td>\n",
       "      <td>90</td>\n",
       "      <td>319</td>\n",
       "      <td>0</td>\n",
       "      <td>95394</td>\n",
       "      <td>NaN</td>\n",
       "      <td>303</td>\n",
       "      <td>123</td>\n",
       "      <td>180</td>\n",
       "      <td>326</td>\n",
       "      <td>...</td>\n",
       "      <td>34.2</td>\n",
       "      <td>382800</td>\n",
       "      <td>607100</td>\n",
       "      <td>80275000.0</td>\n",
       "      <td>80275000.0</td>\n",
       "      <td>80275000.0</td>\n",
       "      <td>-666666666</td>\n",
       "      <td>-666666666.0</td>\n",
       "      <td>180</td>\n",
       "      <td>1957</td>\n",
       "    </tr>\n",
       "    <tr>\n",
       "      <th>2</th>\n",
       "      <td>110010006004</td>\n",
       "      <td>1388</td>\n",
       "      <td>874</td>\n",
       "      <td>42</td>\n",
       "      <td>250001</td>\n",
       "      <td>NaN</td>\n",
       "      <td>694</td>\n",
       "      <td>53</td>\n",
       "      <td>641</td>\n",
       "      <td>1061</td>\n",
       "      <td>...</td>\n",
       "      <td>20.9</td>\n",
       "      <td>334200</td>\n",
       "      <td>1232600</td>\n",
       "      <td>NaN</td>\n",
       "      <td>765930000.0</td>\n",
       "      <td>765930000.0</td>\n",
       "      <td>-666666666</td>\n",
       "      <td>NaN</td>\n",
       "      <td>641</td>\n",
       "      <td>2025</td>\n",
       "    </tr>\n",
       "    <tr>\n",
       "      <th>3</th>\n",
       "      <td>110010042011</td>\n",
       "      <td>920</td>\n",
       "      <td>726</td>\n",
       "      <td>72</td>\n",
       "      <td>79135</td>\n",
       "      <td>NaN</td>\n",
       "      <td>918</td>\n",
       "      <td>733</td>\n",
       "      <td>185</td>\n",
       "      <td>1052</td>\n",
       "      <td>...</td>\n",
       "      <td>28.3</td>\n",
       "      <td>370100</td>\n",
       "      <td>997300</td>\n",
       "      <td>NaN</td>\n",
       "      <td>126205000.0</td>\n",
       "      <td>126205000.0</td>\n",
       "      <td>-666666666</td>\n",
       "      <td>-666666666.0</td>\n",
       "      <td>185</td>\n",
       "      <td>2067</td>\n",
       "    </tr>\n",
       "    <tr>\n",
       "      <th>4</th>\n",
       "      <td>110010011001</td>\n",
       "      <td>1579</td>\n",
       "      <td>777</td>\n",
       "      <td>62</td>\n",
       "      <td>135882</td>\n",
       "      <td>NaN</td>\n",
       "      <td>828</td>\n",
       "      <td>360</td>\n",
       "      <td>468</td>\n",
       "      <td>1047</td>\n",
       "      <td>...</td>\n",
       "      <td>24.9</td>\n",
       "      <td>804100</td>\n",
       "      <td>1246600</td>\n",
       "      <td>454543700.0</td>\n",
       "      <td>454543700.0</td>\n",
       "      <td>454543700.0</td>\n",
       "      <td>-666666666</td>\n",
       "      <td>NaN</td>\n",
       "      <td>468</td>\n",
       "      <td>1908</td>\n",
       "    </tr>\n",
       "    <tr>\n",
       "      <th>...</th>\n",
       "      <td>...</td>\n",
       "      <td>...</td>\n",
       "      <td>...</td>\n",
       "      <td>...</td>\n",
       "      <td>...</td>\n",
       "      <td>...</td>\n",
       "      <td>...</td>\n",
       "      <td>...</td>\n",
       "      <td>...</td>\n",
       "      <td>...</td>\n",
       "      <td>...</td>\n",
       "      <td>...</td>\n",
       "      <td>...</td>\n",
       "      <td>...</td>\n",
       "      <td>...</td>\n",
       "      <td>...</td>\n",
       "      <td>...</td>\n",
       "      <td>...</td>\n",
       "      <td>...</td>\n",
       "      <td>...</td>\n",
       "      <td>...</td>\n",
       "    </tr>\n",
       "    <tr>\n",
       "      <th>2543</th>\n",
       "      <td>510594822032</td>\n",
       "      <td>824</td>\n",
       "      <td>486</td>\n",
       "      <td>0</td>\n",
       "      <td>197702</td>\n",
       "      <td>NaN</td>\n",
       "      <td>399</td>\n",
       "      <td>101</td>\n",
       "      <td>298</td>\n",
       "      <td>573</td>\n",
       "      <td>...</td>\n",
       "      <td>22.6</td>\n",
       "      <td>424900</td>\n",
       "      <td>764200</td>\n",
       "      <td>165395000.0</td>\n",
       "      <td>NaN</td>\n",
       "      <td>165395000.0</td>\n",
       "      <td>-666666666</td>\n",
       "      <td>-666666666.0</td>\n",
       "      <td>298</td>\n",
       "      <td>2187</td>\n",
       "    </tr>\n",
       "    <tr>\n",
       "      <th>2544</th>\n",
       "      <td>510594822033</td>\n",
       "      <td>728</td>\n",
       "      <td>497</td>\n",
       "      <td>37</td>\n",
       "      <td>101905</td>\n",
       "      <td>NaN</td>\n",
       "      <td>638</td>\n",
       "      <td>306</td>\n",
       "      <td>332</td>\n",
       "      <td>652</td>\n",
       "      <td>...</td>\n",
       "      <td>23.6</td>\n",
       "      <td>367700</td>\n",
       "      <td>595100</td>\n",
       "      <td>146895000.0</td>\n",
       "      <td>NaN</td>\n",
       "      <td>146895000.0</td>\n",
       "      <td>-666666666</td>\n",
       "      <td>-666666666.0</td>\n",
       "      <td>332</td>\n",
       "      <td>2246</td>\n",
       "    </tr>\n",
       "    <tr>\n",
       "      <th>2545</th>\n",
       "      <td>510594805013</td>\n",
       "      <td>989</td>\n",
       "      <td>644</td>\n",
       "      <td>23</td>\n",
       "      <td>203162</td>\n",
       "      <td>NaN</td>\n",
       "      <td>429</td>\n",
       "      <td>0</td>\n",
       "      <td>429</td>\n",
       "      <td>794</td>\n",
       "      <td>...</td>\n",
       "      <td>-666666666.0</td>\n",
       "      <td>455600</td>\n",
       "      <td>673100</td>\n",
       "      <td>NaN</td>\n",
       "      <td>242760900.0</td>\n",
       "      <td>242760900.0</td>\n",
       "      <td>-666666666</td>\n",
       "      <td>NaN</td>\n",
       "      <td>429</td>\n",
       "      <td>2290</td>\n",
       "    </tr>\n",
       "    <tr>\n",
       "      <th>2546</th>\n",
       "      <td>510594805031</td>\n",
       "      <td>903</td>\n",
       "      <td>639</td>\n",
       "      <td>7</td>\n",
       "      <td>161563</td>\n",
       "      <td>NaN</td>\n",
       "      <td>438</td>\n",
       "      <td>9</td>\n",
       "      <td>429</td>\n",
       "      <td>761</td>\n",
       "      <td>...</td>\n",
       "      <td>-666666666.0</td>\n",
       "      <td>502600</td>\n",
       "      <td>672300</td>\n",
       "      <td>233969800.0</td>\n",
       "      <td>233969800.0</td>\n",
       "      <td>233969800.0</td>\n",
       "      <td>-666666666</td>\n",
       "      <td>-666666666.0</td>\n",
       "      <td>429</td>\n",
       "      <td>2657</td>\n",
       "    </tr>\n",
       "    <tr>\n",
       "      <th>2547</th>\n",
       "      <td>510594211021</td>\n",
       "      <td>652</td>\n",
       "      <td>644</td>\n",
       "      <td>43</td>\n",
       "      <td>105625</td>\n",
       "      <td>NaN</td>\n",
       "      <td>623</td>\n",
       "      <td>243</td>\n",
       "      <td>380</td>\n",
       "      <td>767</td>\n",
       "      <td>...</td>\n",
       "      <td>43.3</td>\n",
       "      <td>388900</td>\n",
       "      <td>719000</td>\n",
       "      <td>208259000.0</td>\n",
       "      <td>208259000.0</td>\n",
       "      <td>208259000.0</td>\n",
       "      <td>-666666666</td>\n",
       "      <td>-666666666.0</td>\n",
       "      <td>380</td>\n",
       "      <td>2347</td>\n",
       "    </tr>\n",
       "  </tbody>\n",
       "</table>\n",
       "<p>2548 rows × 284 columns</p>\n",
       "</div>"
      ],
      "text/plain": [
       "             GEOID  B03002_003E  B01001_002E  B01001_003E  B19013_001E  \\\n",
       "0     110010068021          489          374           30       136964   \n",
       "1     110010022023           90          319            0        95394   \n",
       "2     110010006004         1388          874           42       250001   \n",
       "3     110010042011          920          726           72        79135   \n",
       "4     110010011001         1579          777           62       135882   \n",
       "...            ...          ...          ...          ...          ...   \n",
       "2543  510594822032          824          486            0       197702   \n",
       "2544  510594822033          728          497           37       101905   \n",
       "2545  510594805013          989          644           23       203162   \n",
       "2546  510594805031          903          639            7       161563   \n",
       "2547  510594211021          652          644           43       105625   \n",
       "\n",
       "      B17001_002E  B25003_001E  B25070_001E  B25091_001E  B23025_003E  ...  \\\n",
       "0             NaN          379          129          250          638  ...   \n",
       "1             NaN          303          123          180          326  ...   \n",
       "2             NaN          694           53          641         1061  ...   \n",
       "3             NaN          918          733          185         1052  ...   \n",
       "4             NaN          828          360          468         1047  ...   \n",
       "...           ...          ...          ...          ...          ...  ...   \n",
       "2543          NaN          399          101          298          573  ...   \n",
       "2544          NaN          638          306          332          652  ...   \n",
       "2545          NaN          429            0          429          794  ...   \n",
       "2546          NaN          438            9          429          761  ...   \n",
       "2547          NaN          623          243          380          767  ...   \n",
       "\n",
       "      B25071_001E  B25076_001E  B25078_001E  B25079_001E  B25080_001E  \\\n",
       "0            24.2       516700       781300  155019600.0          NaN   \n",
       "1            34.2       382800       607100   80275000.0   80275000.0   \n",
       "2            20.9       334200      1232600          NaN  765930000.0   \n",
       "3            28.3       370100       997300          NaN  126205000.0   \n",
       "4            24.9       804100      1246600  454543700.0  454543700.0   \n",
       "...           ...          ...          ...          ...          ...   \n",
       "2543         22.6       424900       764200  165395000.0          NaN   \n",
       "2544         23.6       367700       595100  146895000.0          NaN   \n",
       "2545 -666666666.0       455600       673100          NaN  242760900.0   \n",
       "2546 -666666666.0       502600       672300  233969800.0  233969800.0   \n",
       "2547         43.3       388900       719000  208259000.0  208259000.0   \n",
       "\n",
       "      B25082_001E  B25083_001E  B25086_001E  B25087_001E  B25088_001E  \n",
       "0     155019600.0   -666666666          NaN          250         2682  \n",
       "1      80275000.0   -666666666 -666666666.0          180         1957  \n",
       "2     765930000.0   -666666666          NaN          641         2025  \n",
       "3     126205000.0   -666666666 -666666666.0          185         2067  \n",
       "4     454543700.0   -666666666          NaN          468         1908  \n",
       "...           ...          ...          ...          ...          ...  \n",
       "2543  165395000.0   -666666666 -666666666.0          298         2187  \n",
       "2544  146895000.0   -666666666 -666666666.0          332         2246  \n",
       "2545  242760900.0   -666666666          NaN          429         2290  \n",
       "2546  233969800.0   -666666666 -666666666.0          429         2657  \n",
       "2547  208259000.0   -666666666 -666666666.0          380         2347  \n",
       "\n",
       "[2548 rows x 284 columns]"
      ]
     },
     "execution_count": 56,
     "metadata": {},
     "output_type": "execute_result"
    }
   ],
   "source": [
    "final_df"
   ]
  },
  {
   "cell_type": "code",
   "execution_count": null,
   "metadata": {},
   "outputs": [],
   "source": [
    "final_df.to_csv(\"./data/acs/acs5_2018_selected_vars_DMV.csv\", index=False)"
   ]
  }
 ],
 "metadata": {
  "kernelspec": {
   "display_name": "Python 3",
   "language": "python",
   "name": "python3"
  },
  "language_info": {
   "codemirror_mode": {
    "name": "ipython",
    "version": 3
   },
   "file_extension": ".py",
   "mimetype": "text/x-python",
   "name": "python",
   "nbconvert_exporter": "python",
   "pygments_lexer": "ipython3",
   "version": "3.12.5"
  }
 },
 "nbformat": 4,
 "nbformat_minor": 2
}
