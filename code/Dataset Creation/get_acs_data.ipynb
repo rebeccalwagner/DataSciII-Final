{
 "cells": [
  {
   "cell_type": "code",
   "execution_count": 124,
   "metadata": {},
   "outputs": [],
   "source": [
    "import requests\n",
    "import json\n",
    "import pandas as pd\n",
    "import geopandas as gpd\n",
    "import os\n",
    "from dotenv import load_dotenv\n",
    "from tqdm import tqdm"
   ]
  },
  {
   "cell_type": "markdown",
   "metadata": {},
   "source": [
    "## Identify the variables to call from the ACS"
   ]
  },
  {
   "cell_type": "markdown",
   "metadata": {},
   "source": [
    "### All Possible ACS Vars"
   ]
  },
  {
   "cell_type": "code",
   "execution_count": 89,
   "metadata": {},
   "outputs": [],
   "source": [
    "## get a list of all the possible variables\n",
    "\n",
    "url = \"https://api.census.gov/data/2018/acs/acs5/variables.json\"\n",
    "\n",
    "response = requests.get(url)\n",
    "variables_data = response.json()\n",
    "\n",
    "variables_list = []\n",
    "\n",
    "for variable, info in variables_data['variables'].items():\n",
    "    variables_list.append({\n",
    "        'Variable': variable,\n",
    "        'Label': info.get('label', ''),\n",
    "        'Concept': info.get('concept', ''),\n",
    "        'Group': info.get('group', '')\n",
    "    })\n",
    "\n",
    "# Convert the list of dictionaries into a DataFrame\n",
    "acs_all_variables = pd.DataFrame(variables_list)"
   ]
  },
  {
   "cell_type": "code",
   "execution_count": null,
   "metadata": {},
   "outputs": [],
   "source": [
    "# save for future reference without calling api again\n",
    "\n",
    "# acs_all_variables.to_csv(\"./data/acs/variables/acs5_2018_all_vars.csv\", index=False)"
   ]
  },
  {
   "cell_type": "markdown",
   "metadata": {},
   "source": [
    "### Manually Compiled Vars"
   ]
  },
  {
   "cell_type": "code",
   "execution_count": null,
   "metadata": {},
   "outputs": [],
   "source": [
    "# load csv with my manually compiled variables (probably with errors)\n",
    "variables = pd.read_csv(\"./data/acs/variables/compiled_acs_vars.csv\",usecols=[\"Variable Code\"])\n"
   ]
  },
  {
   "cell_type": "markdown",
   "metadata": {},
   "source": [
    "### Merge \n",
    "Merge the complete variable list with my manually compiled one to get all the details directly from the census and identify errors"
   ]
  },
  {
   "cell_type": "code",
   "execution_count": 96,
   "metadata": {},
   "outputs": [
    {
     "data": {
      "text/html": [
       "<div>\n",
       "<style scoped>\n",
       "    .dataframe tbody tr th:only-of-type {\n",
       "        vertical-align: middle;\n",
       "    }\n",
       "\n",
       "    .dataframe tbody tr th {\n",
       "        vertical-align: top;\n",
       "    }\n",
       "\n",
       "    .dataframe thead th {\n",
       "        text-align: right;\n",
       "    }\n",
       "</style>\n",
       "<table border=\"1\" class=\"dataframe\">\n",
       "  <thead>\n",
       "    <tr style=\"text-align: right;\">\n",
       "      <th></th>\n",
       "      <th>Variable Code</th>\n",
       "      <th>Variable</th>\n",
       "      <th>Label</th>\n",
       "      <th>Concept</th>\n",
       "      <th>Group</th>\n",
       "    </tr>\n",
       "  </thead>\n",
       "  <tbody>\n",
       "    <tr>\n",
       "      <th>0</th>\n",
       "      <td>B03002_003E</td>\n",
       "      <td>B03002_003E</td>\n",
       "      <td>Estimate!!Total!!Not Hispanic or Latino!!White...</td>\n",
       "      <td>HISPANIC OR LATINO ORIGIN BY RACE</td>\n",
       "      <td>B03002</td>\n",
       "    </tr>\n",
       "    <tr>\n",
       "      <th>1</th>\n",
       "      <td>B01001_002E</td>\n",
       "      <td>B01001_002E</td>\n",
       "      <td>Estimate!!Total!!Male</td>\n",
       "      <td>SEX BY AGE</td>\n",
       "      <td>B01001</td>\n",
       "    </tr>\n",
       "    <tr>\n",
       "      <th>2</th>\n",
       "      <td>B01001_003E</td>\n",
       "      <td>B01001_003E</td>\n",
       "      <td>Estimate!!Total!!Male!!Under 5 years</td>\n",
       "      <td>SEX BY AGE</td>\n",
       "      <td>B01001</td>\n",
       "    </tr>\n",
       "    <tr>\n",
       "      <th>3</th>\n",
       "      <td>B19013_001E</td>\n",
       "      <td>B19013_001E</td>\n",
       "      <td>Estimate!!Median household income in the past ...</td>\n",
       "      <td>MEDIAN HOUSEHOLD INCOME IN THE PAST 12 MONTHS ...</td>\n",
       "      <td>B19013</td>\n",
       "    </tr>\n",
       "    <tr>\n",
       "      <th>4</th>\n",
       "      <td>B17001_002E</td>\n",
       "      <td>B17001_002E</td>\n",
       "      <td>Estimate!!Total!!Income in the past 12 months ...</td>\n",
       "      <td>POVERTY STATUS IN THE PAST 12 MONTHS BY SEX BY...</td>\n",
       "      <td>B17001</td>\n",
       "    </tr>\n",
       "    <tr>\n",
       "      <th>...</th>\n",
       "      <td>...</td>\n",
       "      <td>...</td>\n",
       "      <td>...</td>\n",
       "      <td>...</td>\n",
       "      <td>...</td>\n",
       "    </tr>\n",
       "    <tr>\n",
       "      <th>310</th>\n",
       "      <td>B25083_001E</td>\n",
       "      <td>B25083_001E</td>\n",
       "      <td>Estimate!!Median value (dollars)</td>\n",
       "      <td>MEDIAN VALUE (DOLLARS) FOR MOBILE HOMES</td>\n",
       "      <td>B25083</td>\n",
       "    </tr>\n",
       "    <tr>\n",
       "      <th>311</th>\n",
       "      <td>B25084_001E</td>\n",
       "      <td>NaN</td>\n",
       "      <td>NaN</td>\n",
       "      <td>NaN</td>\n",
       "      <td>NaN</td>\n",
       "    </tr>\n",
       "    <tr>\n",
       "      <th>312</th>\n",
       "      <td>B25086_001E</td>\n",
       "      <td>B25086_001E</td>\n",
       "      <td>Estimate!!Aggregate price asked (dollars)</td>\n",
       "      <td>AGGREGATE PRICE ASKED (DOLLARS)</td>\n",
       "      <td>B25086</td>\n",
       "    </tr>\n",
       "    <tr>\n",
       "      <th>313</th>\n",
       "      <td>B25087_001E</td>\n",
       "      <td>B25087_001E</td>\n",
       "      <td>Estimate!!Total</td>\n",
       "      <td>MORTGAGE STATUS AND SELECTED MONTHLY OWNER COSTS</td>\n",
       "      <td>B25087</td>\n",
       "    </tr>\n",
       "    <tr>\n",
       "      <th>314</th>\n",
       "      <td>B25088_001E</td>\n",
       "      <td>B25088_001E</td>\n",
       "      <td>Estimate!!Median selected monthly owner costs ...</td>\n",
       "      <td>MEDIAN SELECTED MONTHLY OWNER COSTS (DOLLARS) ...</td>\n",
       "      <td>B25088</td>\n",
       "    </tr>\n",
       "  </tbody>\n",
       "</table>\n",
       "<p>315 rows × 5 columns</p>\n",
       "</div>"
      ],
      "text/plain": [
       "    Variable Code     Variable  \\\n",
       "0     B03002_003E  B03002_003E   \n",
       "1     B01001_002E  B01001_002E   \n",
       "2     B01001_003E  B01001_003E   \n",
       "3     B19013_001E  B19013_001E   \n",
       "4     B17001_002E  B17001_002E   \n",
       "..            ...          ...   \n",
       "310   B25083_001E  B25083_001E   \n",
       "311   B25084_001E          NaN   \n",
       "312   B25086_001E  B25086_001E   \n",
       "313   B25087_001E  B25087_001E   \n",
       "314   B25088_001E  B25088_001E   \n",
       "\n",
       "                                                 Label  \\\n",
       "0    Estimate!!Total!!Not Hispanic or Latino!!White...   \n",
       "1                                Estimate!!Total!!Male   \n",
       "2                 Estimate!!Total!!Male!!Under 5 years   \n",
       "3    Estimate!!Median household income in the past ...   \n",
       "4    Estimate!!Total!!Income in the past 12 months ...   \n",
       "..                                                 ...   \n",
       "310                   Estimate!!Median value (dollars)   \n",
       "311                                                NaN   \n",
       "312          Estimate!!Aggregate price asked (dollars)   \n",
       "313                                    Estimate!!Total   \n",
       "314  Estimate!!Median selected monthly owner costs ...   \n",
       "\n",
       "                                               Concept   Group  \n",
       "0                    HISPANIC OR LATINO ORIGIN BY RACE  B03002  \n",
       "1                                           SEX BY AGE  B01001  \n",
       "2                                           SEX BY AGE  B01001  \n",
       "3    MEDIAN HOUSEHOLD INCOME IN THE PAST 12 MONTHS ...  B19013  \n",
       "4    POVERTY STATUS IN THE PAST 12 MONTHS BY SEX BY...  B17001  \n",
       "..                                                 ...     ...  \n",
       "310            MEDIAN VALUE (DOLLARS) FOR MOBILE HOMES  B25083  \n",
       "311                                                NaN     NaN  \n",
       "312                    AGGREGATE PRICE ASKED (DOLLARS)  B25086  \n",
       "313   MORTGAGE STATUS AND SELECTED MONTHLY OWNER COSTS  B25087  \n",
       "314  MEDIAN SELECTED MONTHLY OWNER COSTS (DOLLARS) ...  B25088  \n",
       "\n",
       "[315 rows x 5 columns]"
      ]
     },
     "execution_count": 96,
     "metadata": {},
     "output_type": "execute_result"
    }
   ],
   "source": [
    "merged_variables = pd.merge(variables, acs_all_variables, how=\"left\", left_on=\"Variable Code\", right_on=\"Variable\")\n",
    "\n",
    "merged_variables"
   ]
  },
  {
   "cell_type": "code",
   "execution_count": 110,
   "metadata": {},
   "outputs": [],
   "source": [
    "# drop incorrect variables \n",
    "merged_variables = merged_variables.dropna(subset=[\"Variable\"])\n",
    "# drop duplicated variables\n",
    "merged_variables = merged_variables.drop_duplicates()\n",
    "# drop duplicate column\n",
    "merged_variables = merged_variables.drop(\"Variable Code\",axis=1)"
   ]
  },
  {
   "cell_type": "code",
   "execution_count": 111,
   "metadata": {},
   "outputs": [
    {
     "data": {
      "text/html": [
       "<div>\n",
       "<style scoped>\n",
       "    .dataframe tbody tr th:only-of-type {\n",
       "        vertical-align: middle;\n",
       "    }\n",
       "\n",
       "    .dataframe tbody tr th {\n",
       "        vertical-align: top;\n",
       "    }\n",
       "\n",
       "    .dataframe thead th {\n",
       "        text-align: right;\n",
       "    }\n",
       "</style>\n",
       "<table border=\"1\" class=\"dataframe\">\n",
       "  <thead>\n",
       "    <tr style=\"text-align: right;\">\n",
       "      <th></th>\n",
       "      <th>Variable</th>\n",
       "      <th>Label</th>\n",
       "      <th>Concept</th>\n",
       "      <th>Group</th>\n",
       "    </tr>\n",
       "  </thead>\n",
       "  <tbody>\n",
       "    <tr>\n",
       "      <th>0</th>\n",
       "      <td>B03002_003E</td>\n",
       "      <td>Estimate!!Total!!Not Hispanic or Latino!!White...</td>\n",
       "      <td>HISPANIC OR LATINO ORIGIN BY RACE</td>\n",
       "      <td>B03002</td>\n",
       "    </tr>\n",
       "    <tr>\n",
       "      <th>1</th>\n",
       "      <td>B01001_002E</td>\n",
       "      <td>Estimate!!Total!!Male</td>\n",
       "      <td>SEX BY AGE</td>\n",
       "      <td>B01001</td>\n",
       "    </tr>\n",
       "    <tr>\n",
       "      <th>2</th>\n",
       "      <td>B01001_003E</td>\n",
       "      <td>Estimate!!Total!!Male!!Under 5 years</td>\n",
       "      <td>SEX BY AGE</td>\n",
       "      <td>B01001</td>\n",
       "    </tr>\n",
       "    <tr>\n",
       "      <th>3</th>\n",
       "      <td>B19013_001E</td>\n",
       "      <td>Estimate!!Median household income in the past ...</td>\n",
       "      <td>MEDIAN HOUSEHOLD INCOME IN THE PAST 12 MONTHS ...</td>\n",
       "      <td>B19013</td>\n",
       "    </tr>\n",
       "    <tr>\n",
       "      <th>4</th>\n",
       "      <td>B17001_002E</td>\n",
       "      <td>Estimate!!Total!!Income in the past 12 months ...</td>\n",
       "      <td>POVERTY STATUS IN THE PAST 12 MONTHS BY SEX BY...</td>\n",
       "      <td>B17001</td>\n",
       "    </tr>\n",
       "    <tr>\n",
       "      <th>...</th>\n",
       "      <td>...</td>\n",
       "      <td>...</td>\n",
       "      <td>...</td>\n",
       "      <td>...</td>\n",
       "    </tr>\n",
       "    <tr>\n",
       "      <th>309</th>\n",
       "      <td>B25082_001E</td>\n",
       "      <td>Estimate!!Aggregate value (dollars)</td>\n",
       "      <td>AGGREGATE VALUE (DOLLARS) BY MORTGAGE STATUS</td>\n",
       "      <td>B25082</td>\n",
       "    </tr>\n",
       "    <tr>\n",
       "      <th>310</th>\n",
       "      <td>B25083_001E</td>\n",
       "      <td>Estimate!!Median value (dollars)</td>\n",
       "      <td>MEDIAN VALUE (DOLLARS) FOR MOBILE HOMES</td>\n",
       "      <td>B25083</td>\n",
       "    </tr>\n",
       "    <tr>\n",
       "      <th>312</th>\n",
       "      <td>B25086_001E</td>\n",
       "      <td>Estimate!!Aggregate price asked (dollars)</td>\n",
       "      <td>AGGREGATE PRICE ASKED (DOLLARS)</td>\n",
       "      <td>B25086</td>\n",
       "    </tr>\n",
       "    <tr>\n",
       "      <th>313</th>\n",
       "      <td>B25087_001E</td>\n",
       "      <td>Estimate!!Total</td>\n",
       "      <td>MORTGAGE STATUS AND SELECTED MONTHLY OWNER COSTS</td>\n",
       "      <td>B25087</td>\n",
       "    </tr>\n",
       "    <tr>\n",
       "      <th>314</th>\n",
       "      <td>B25088_001E</td>\n",
       "      <td>Estimate!!Median selected monthly owner costs ...</td>\n",
       "      <td>MEDIAN SELECTED MONTHLY OWNER COSTS (DOLLARS) ...</td>\n",
       "      <td>B25088</td>\n",
       "    </tr>\n",
       "  </tbody>\n",
       "</table>\n",
       "<p>279 rows × 4 columns</p>\n",
       "</div>"
      ],
      "text/plain": [
       "        Variable                                              Label  \\\n",
       "0    B03002_003E  Estimate!!Total!!Not Hispanic or Latino!!White...   \n",
       "1    B01001_002E                              Estimate!!Total!!Male   \n",
       "2    B01001_003E               Estimate!!Total!!Male!!Under 5 years   \n",
       "3    B19013_001E  Estimate!!Median household income in the past ...   \n",
       "4    B17001_002E  Estimate!!Total!!Income in the past 12 months ...   \n",
       "..           ...                                                ...   \n",
       "309  B25082_001E                Estimate!!Aggregate value (dollars)   \n",
       "310  B25083_001E                   Estimate!!Median value (dollars)   \n",
       "312  B25086_001E          Estimate!!Aggregate price asked (dollars)   \n",
       "313  B25087_001E                                    Estimate!!Total   \n",
       "314  B25088_001E  Estimate!!Median selected monthly owner costs ...   \n",
       "\n",
       "                                               Concept   Group  \n",
       "0                    HISPANIC OR LATINO ORIGIN BY RACE  B03002  \n",
       "1                                           SEX BY AGE  B01001  \n",
       "2                                           SEX BY AGE  B01001  \n",
       "3    MEDIAN HOUSEHOLD INCOME IN THE PAST 12 MONTHS ...  B19013  \n",
       "4    POVERTY STATUS IN THE PAST 12 MONTHS BY SEX BY...  B17001  \n",
       "..                                                 ...     ...  \n",
       "309       AGGREGATE VALUE (DOLLARS) BY MORTGAGE STATUS  B25082  \n",
       "310            MEDIAN VALUE (DOLLARS) FOR MOBILE HOMES  B25083  \n",
       "312                    AGGREGATE PRICE ASKED (DOLLARS)  B25086  \n",
       "313   MORTGAGE STATUS AND SELECTED MONTHLY OWNER COSTS  B25087  \n",
       "314  MEDIAN SELECTED MONTHLY OWNER COSTS (DOLLARS) ...  B25088  \n",
       "\n",
       "[279 rows x 4 columns]"
      ]
     },
     "execution_count": 111,
     "metadata": {},
     "output_type": "execute_result"
    }
   ],
   "source": [
    "merged_variables"
   ]
  },
  {
   "cell_type": "code",
   "execution_count": 112,
   "metadata": {},
   "outputs": [],
   "source": [
    "# save final variable df \n",
    "\n",
    "merged_variables.to_csv(\"./data/acs/variables/acs5_2018_selected_vars.csv\", index=False)"
   ]
  },
  {
   "cell_type": "markdown",
   "metadata": {},
   "source": [
    "## Use API to call data for each state"
   ]
  },
  {
   "cell_type": "code",
   "execution_count": null,
   "metadata": {},
   "outputs": [],
   "source": [
    "load_dotenv()\n",
    "\n",
    "api_key = os.getenv('CENSUS_API')\n",
    "\n",
    "variable_list = list(merged_variables[\"Variable\"])"
   ]
  },
  {
   "cell_type": "code",
   "execution_count": null,
   "metadata": {},
   "outputs": [],
   "source": [
    "####################################################################################################\n",
    "\n",
    "def fetch_vars(year, variables, state, api_key):\n",
    "\n",
    "    url = f\"https://api.census.gov/data/{year}/acs/acs5?get={variables}&for=block%20group:*&in=state:{state}%20county:*%20tract:*&key={api_key}\"\n",
    "\n",
    "    try:\n",
    "        response = requests.get(url)\n",
    "\n",
    "        if response.status_code == 200:\n",
    "\n",
    "            print(\"Response Code 200\")\n",
    "            return response.json()\n",
    "        \n",
    "        else:\n",
    "\n",
    "            print(f\"Failed batch request\")\n",
    "            return None\n",
    "        \n",
    "    except requests.exceptions.RequestException as e:\n",
    "        print(f\"Request error for {variable}: {e}\")\n",
    "        return None\n",
    "\n",
    "####################################################################################################\n",
    "\n",
    "def merge_dataframes(df_list):\n",
    "\n",
    "    final_df = df_list[0]\n",
    "\n",
    "    for df in df_list[1:]:\n",
    "\n",
    "        final_df = pd.merge(final_df, df, on=[\"state\",\"county\",\"tract\",\"block group\"])\n",
    "\n",
    "    return final_df\n",
    "\n",
    "####################################################################################################\n",
    "\n",
    "def make_geoid(df):\n",
    "\n",
    "    df[\"GEOID\"] = (\n",
    "        df[\"state\"].str.zfill(2) +\n",
    "        df[\"county\"].str.zfill(3) +\n",
    "        df[\"tract\"].str.zfill(6) +\n",
    "        df[\"block group\"]\n",
    "    )\n"
   ]
  },
  {
   "cell_type": "code",
   "execution_count": 180,
   "metadata": {},
   "outputs": [
    {
     "data": {
      "text/plain": [
       "6"
      ]
     },
     "execution_count": 180,
     "metadata": {},
     "output_type": "execute_result"
    }
   ],
   "source": [
    "batch_size = 50 \n",
    "batches = [variable_list[i:i + batch_size] for i in range(0, len(variable_list), batch_size)]\n",
    "\n",
    "len(batches)"
   ]
  },
  {
   "cell_type": "code",
   "execution_count": 181,
   "metadata": {},
   "outputs": [
    {
     "name": "stderr",
     "output_type": "stream",
     "text": [
      " 17%|█▋        | 1/6 [01:20<06:40, 80.03s/it]"
     ]
    },
    {
     "name": "stdout",
     "output_type": "stream",
     "text": [
      "Response Code 200\n"
     ]
    },
    {
     "name": "stderr",
     "output_type": "stream",
     "text": [
      " 33%|███▎      | 2/6 [02:38<05:17, 79.33s/it]"
     ]
    },
    {
     "name": "stdout",
     "output_type": "stream",
     "text": [
      "Response Code 200\n"
     ]
    },
    {
     "name": "stderr",
     "output_type": "stream",
     "text": [
      " 50%|█████     | 3/6 [03:59<04:00, 80.10s/it]"
     ]
    },
    {
     "name": "stdout",
     "output_type": "stream",
     "text": [
      "Response Code 200\n"
     ]
    },
    {
     "name": "stderr",
     "output_type": "stream",
     "text": [
      " 67%|██████▋   | 4/6 [05:17<02:38, 79.22s/it]"
     ]
    },
    {
     "name": "stdout",
     "output_type": "stream",
     "text": [
      "Response Code 200\n"
     ]
    },
    {
     "name": "stderr",
     "output_type": "stream",
     "text": [
      " 83%|████████▎ | 5/6 [06:38<01:19, 79.65s/it]"
     ]
    },
    {
     "name": "stdout",
     "output_type": "stream",
     "text": [
      "Response Code 200\n"
     ]
    },
    {
     "name": "stderr",
     "output_type": "stream",
     "text": [
      "100%|██████████| 6/6 [07:59<00:00, 79.89s/it]"
     ]
    },
    {
     "name": "stdout",
     "output_type": "stream",
     "text": [
      "Response Code 200\n"
     ]
    },
    {
     "name": "stderr",
     "output_type": "stream",
     "text": [
      "\n"
     ]
    }
   ],
   "source": [
    "md_results = []\n",
    "\n",
    "for batch in tqdm(batches):\n",
    "\n",
    "    variables = \",\".join(batch)\n",
    "\n",
    "    data = fetch_vars(year=2018, variables=variables, state=\"24\", api_key=api_key)\n",
    "\n",
    "    if data:\n",
    "        df_batch = pd.DataFrame(data[1:], columns=data[0])\n",
    "        md_results.append(df_batch)\n",
    "\n",
    "    else:\n",
    "        print(\"batch failed\")"
   ]
  },
  {
   "cell_type": "code",
   "execution_count": 182,
   "metadata": {},
   "outputs": [],
   "source": [
    "md_final_df = merge_dataframes(md_results)\n",
    "\n",
    "make_geoid(md_final_df)"
   ]
  },
  {
   "cell_type": "code",
   "execution_count": null,
   "metadata": {},
   "outputs": [],
   "source": [
    "md_final_df.to_csv(\"./data/acs/acs5_2018_selected_vars_MD.csv\",index=False)"
   ]
  }
 ],
 "metadata": {
  "kernelspec": {
   "display_name": "Python 3",
   "language": "python",
   "name": "python3"
  },
  "language_info": {
   "codemirror_mode": {
    "name": "ipython",
    "version": 3
   },
   "file_extension": ".py",
   "mimetype": "text/x-python",
   "name": "python",
   "nbconvert_exporter": "python",
   "pygments_lexer": "ipython3",
   "version": "3.12.5"
  }
 },
 "nbformat": 4,
 "nbformat_minor": 2
}
